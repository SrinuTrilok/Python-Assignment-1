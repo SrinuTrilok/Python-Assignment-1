{
 "cells": [
  {
   "cell_type": "code",
   "execution_count": null,
   "id": "1b18a838",
   "metadata": {},
   "outputs": [],
   "source": [
    "1. In the below elements which of them are values or an expression? eg:- values can beinteger or string and expressions will be mathematical operators."
   ]
  },
  {
   "cell_type": "code",
   "execution_count": null,
   "id": "56283538",
   "metadata": {},
   "outputs": [],
   "source": [
    "A.\n",
    "* - expression\n",
    "hello - values\n",
    "-87.8 - values\n",
    "- - expression\n",
    "/ - expression\n",
    "+ - expression \n",
    "6 - values"
   ]
  },
  {
   "cell_type": "code",
   "execution_count": null,
   "id": "65e6f79d",
   "metadata": {},
   "outputs": [],
   "source": [
    "2. What is the difference between string and variable?\n",
    "A. String : are identified as single word, sentence or character in between quotation marks.\n",
    "Variables : Basically its a name which represents and refers to a value and entity where you able to store the data which we can procees in run time."
   ]
  },
  {
   "cell_type": "code",
   "execution_count": null,
   "id": "1259852f",
   "metadata": {},
   "outputs": [],
   "source": [
    "3. Describe three different data types.\n",
    "A. int(), float(), str(),\n"
   ]
  },
  {
   "cell_type": "code",
   "execution_count": null,
   "id": "6039dd2a",
   "metadata": {},
   "outputs": [],
   "source": [
    "4. What is an expression made up of? What do all expressions do\n",
    "A. Expression is made of values, with constant value , string or a number and all expressions "
   ]
  },
  {
   "cell_type": "code",
   "execution_count": null,
   "id": "7e2cf8e1",
   "metadata": {},
   "outputs": [],
   "source": [
    "5.This assignment statements, like spam = 10. What is the difference between an\n",
    "expression and a statement?\n",
    "A. Expression is combination of values which can be values, string, number ,operation \n",
    "Statement is instructions of code where pyhton interpreter can execute , complete command is called statement\n",
    "here spam=10 is the instruction given to the computer."
   ]
  },
  {
   "cell_type": "code",
   "execution_count": 3,
   "id": "d5698ea8",
   "metadata": {},
   "outputs": [],
   "source": [
    "spam=10"
   ]
  },
  {
   "cell_type": "code",
   "execution_count": null,
   "id": "c4928fe0",
   "metadata": {},
   "outputs": [],
   "source": [
    "6. After running the following code, what does the variable bacon contain?\n",
    "bacon = 22\n",
    "bacon + 1"
   ]
  },
  {
   "cell_type": "code",
   "execution_count": 4,
   "id": "344b023d",
   "metadata": {},
   "outputs": [],
   "source": [
    "bacon =22"
   ]
  },
  {
   "cell_type": "code",
   "execution_count": 5,
   "id": "a7546a04",
   "metadata": {},
   "outputs": [
    {
     "data": {
      "text/plain": [
       "23"
      ]
     },
     "execution_count": 5,
     "metadata": {},
     "output_type": "execute_result"
    }
   ],
   "source": [
    "bacon+1"
   ]
  },
  {
   "cell_type": "code",
   "execution_count": null,
   "id": "1d7340c7",
   "metadata": {
    "collapsed": true
   },
   "outputs": [],
   "source": [
    "7. What should the values of the following two terms be?\n",
    "'sapm'+'spamspam'\n",
    "'sapm'*3\n",
    "A"
   ]
  },
  {
   "cell_type": "code",
   "execution_count": 6,
   "id": "9cf16ed4",
   "metadata": {},
   "outputs": [],
   "source": [
    "a ='spam'+'spamspam'"
   ]
  },
  {
   "cell_type": "code",
   "execution_count": 11,
   "id": "57b3a981",
   "metadata": {},
   "outputs": [],
   "source": [
    "b='spam'*3"
   ]
  },
  {
   "cell_type": "code",
   "execution_count": 10,
   "id": "94e0ab00",
   "metadata": {},
   "outputs": [
    {
     "data": {
      "text/plain": [
       "'spamspamspam'"
      ]
     },
     "execution_count": 10,
     "metadata": {},
     "output_type": "execute_result"
    }
   ],
   "source": [
    "a"
   ]
  },
  {
   "cell_type": "code",
   "execution_count": 12,
   "id": "ce572ce6",
   "metadata": {},
   "outputs": [
    {
     "data": {
      "text/plain": [
       "'spamspamspam'"
      ]
     },
     "execution_count": 12,
     "metadata": {},
     "output_type": "execute_result"
    }
   ],
   "source": [
    "b"
   ]
  },
  {
   "cell_type": "code",
   "execution_count": null,
   "id": "5ebc140b",
   "metadata": {},
   "outputs": [],
   "source": [
    "8. Why is eggs a valid variable name while 100 is invalid?\n",
    "A. Variable cannot be a start with number.\n",
    "eg: below\n"
   ]
  },
  {
   "cell_type": "code",
   "execution_count": 16,
   "id": "34a34018",
   "metadata": {},
   "outputs": [
    {
     "ename": "SyntaxError",
     "evalue": "invalid syntax (1719447062.py, line 1)",
     "output_type": "error",
     "traceback": [
      "\u001b[0;36m  File \u001b[0;32m\"/tmp/ipykernel_35303/1719447062.py\"\u001b[0;36m, line \u001b[0;32m1\u001b[0m\n\u001b[0;31m    9a = a\u001b[0m\n\u001b[0m     ^\u001b[0m\n\u001b[0;31mSyntaxError\u001b[0m\u001b[0;31m:\u001b[0m invalid syntax\n"
     ]
    }
   ],
   "source": [
    "9a = a"
   ]
  },
  {
   "cell_type": "code",
   "execution_count": 17,
   "id": "6a888df3",
   "metadata": {},
   "outputs": [],
   "source": [
    "eggs =10"
   ]
  },
  {
   "cell_type": "code",
   "execution_count": 15,
   "id": "af3b5939",
   "metadata": {},
   "outputs": [
    {
     "data": {
      "text/plain": [
       "10"
      ]
     },
     "execution_count": 15,
     "metadata": {},
     "output_type": "execute_result"
    }
   ],
   "source": [
    "eggs"
   ]
  },
  {
   "cell_type": "code",
   "execution_count": null,
   "id": "59ea41b9",
   "metadata": {},
   "outputs": [],
   "source": [
    "9.What three functions can be used to get the integer, floating-point number, or string\n",
    "version of a value?\n",
    "A. int(), float(), str()"
   ]
  },
  {
   "cell_type": "code",
   "execution_count": null,
   "id": "3fed1f4b",
   "metadata": {},
   "outputs": [],
   "source": [
    "10. Why does this expression cause an error? How can you fix it?"
   ]
  },
  {
   "cell_type": "code",
   "execution_count": 7,
   "id": "774ebe42",
   "metadata": {},
   "outputs": [
    {
     "ename": "TypeError",
     "evalue": "can only concatenate str (not \"int\") to str",
     "output_type": "error",
     "traceback": [
      "\u001b[0;31m---------------------------------------------------------------------------\u001b[0m",
      "\u001b[0;31mTypeError\u001b[0m                                 Traceback (most recent call last)",
      "\u001b[0;32m/tmp/ipykernel_17193/2433453251.py\u001b[0m in \u001b[0;36m<module>\u001b[0;34m\u001b[0m\n\u001b[0;32m----> 1\u001b[0;31m \u001b[0mn\u001b[0m \u001b[0;34m=\u001b[0m \u001b[0;34m'i have eaten'\u001b[0m\u001b[0;34m+\u001b[0m \u001b[0;36m99\u001b[0m \u001b[0;34m+\u001b[0m \u001b[0;34m'burritos.'\u001b[0m\u001b[0;34m\u001b[0m\u001b[0;34m\u001b[0m\u001b[0m\n\u001b[0m",
      "\u001b[0;31mTypeError\u001b[0m: can only concatenate str (not \"int\") to str"
     ]
    }
   ],
   "source": [
    "n = 'i have eaten'+ 99 + 'burritos.'"
   ]
  },
  {
   "cell_type": "markdown",
   "id": "8085684d",
   "metadata": {},
   "source": [
    "Reasons: n variable contains string and integers addition so we getting error it cannot concatenate, so we need to type cast int to str"
   ]
  },
  {
   "cell_type": "code",
   "execution_count": 12,
   "id": "b603157c",
   "metadata": {},
   "outputs": [],
   "source": [
    "n = 'i have eaten '+ str(99)+ ' burritos.'"
   ]
  },
  {
   "cell_type": "code",
   "execution_count": 13,
   "id": "9002dddd",
   "metadata": {},
   "outputs": [
    {
     "data": {
      "text/plain": [
       "'i have eaten 99 burritos.'"
      ]
     },
     "execution_count": 13,
     "metadata": {},
     "output_type": "execute_result"
    }
   ],
   "source": [
    "n"
   ]
  },
  {
   "cell_type": "code",
   "execution_count": null,
   "id": "5f9e7113",
   "metadata": {},
   "outputs": [],
   "source": []
  }
 ],
 "metadata": {
  "kernelspec": {
   "display_name": "Python 3 (ipykernel)",
   "language": "python",
   "name": "python3"
  },
  "language_info": {
   "codemirror_mode": {
    "name": "ipython",
    "version": 3
   },
   "file_extension": ".py",
   "mimetype": "text/x-python",
   "name": "python",
   "nbconvert_exporter": "python",
   "pygments_lexer": "ipython3",
   "version": "3.9.13"
  }
 },
 "nbformat": 4,
 "nbformat_minor": 5
}
